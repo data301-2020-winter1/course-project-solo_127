{
 "cells": [
  {
   "cell_type": "code",
   "execution_count": 4,
   "metadata": {},
   "outputs": [
    {
     "name": "stdout",
     "output_type": "stream",
     "text": [
      "         user_id  anime_id  rating\n",
      "0              1        20      -1\n",
      "1              1        24      -1\n",
      "2              1        79      -1\n",
      "3              1       226      -1\n",
      "4              1       241      -1\n",
      "...          ...       ...     ...\n",
      "7813732    73515     16512       7\n",
      "7813733    73515     17187       9\n",
      "7813734    73515     22145      10\n",
      "7813735    73516       790       9\n",
      "7813736    73516      8074       9\n",
      "\n",
      "[7813737 rows x 3 columns]\n"
     ]
    }
   ],
   "source": [
    "import numpy as np\n",
    "import pandas as pd\n",
    "\n",
    "animedf = pd.read_csv('/Users/rbowler/school/data301/course-project-solo_127/data301-project-data-RyBowler/anime.csv')\n",
    "ratingdf = pd.read_csv('/Users/rbowler/school/data301/course-project-solo_127/data301-project-data-RyBowler/rating.csv')"
   ]
  },
  {
   "cell_type": "code",
   "execution_count": null,
   "metadata": {},
   "outputs": [],
   "source": []
  }
 ],
 "metadata": {
  "kernelspec": {
   "display_name": "Python 3",
   "language": "python",
   "name": "python3"
  },
  "language_info": {
   "codemirror_mode": {
    "name": "ipython",
    "version": 3
   },
   "file_extension": ".py",
   "mimetype": "text/x-python",
   "name": "python",
   "nbconvert_exporter": "python",
   "pygments_lexer": "ipython3",
   "version": "3.8.3"
  }
 },
 "nbformat": 4,
 "nbformat_minor": 4
}
